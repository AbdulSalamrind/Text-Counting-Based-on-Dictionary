{
 "cells": [
  {
   "cell_type": "code",
   "execution_count": null,
   "id": "a95d4985",
   "metadata": {},
   "outputs": [],
   "source": [
    "import pandas as pd\n",
    "\n",
    "# Load the Excel file into a DataFrame\n",
    "file_path = \"data.xlsx\"  # Replace with your Excel file's path\n",
    "df = pd.read_excel(file_path)\n",
    "\n",
    "# Define your dictionary of words and their corresponding counts\n",
    "word_dictionary = {\n",
    "    \"word1\": 0,\n",
    "    \"word2\": 0,\n",
    "    \"word3\": 0,\n",
    "    # Add more words as needed\n",
    "}\n",
    "\n",
    "# Function to count words in a text\n",
    "def count_words(text):\n",
    "    words = text.split()\n",
    "    word_count = {word: words.count(word) for word in word_dictionary}\n",
    "    return word_count\n",
    "\n",
    "text_column_name = \"date, time\"\n",
    "\n",
    "# Iterate through each row and count words\n",
    "for index, row in df.iterrows():\n",
    "    text = row[text_column_name]\n",
    "    word_count = count_words(text)\n",
    "    \n",
    "    # Update the counts in the word_dictionary\n",
    "    for word, count in word_count.items():\n",
    "        word_dictionary[word] += count\n",
    "\n",
    "# Display the word counts\n",
    "for word, count in word_dictionary.items():\n",
    "    print(f\"{word}: {count}\")\n"
   ]
  }
 ],
 "metadata": {
  "kernelspec": {
   "display_name": "Python 3 (ipykernel)",
   "language": "python",
   "name": "python3"
  },
  "language_info": {
   "codemirror_mode": {
    "name": "ipython",
    "version": 3
   },
   "file_extension": ".py",
   "mimetype": "text/x-python",
   "name": "python",
   "nbconvert_exporter": "python",
   "pygments_lexer": "ipython3",
   "version": "3.9.17"
  }
 },
 "nbformat": 4,
 "nbformat_minor": 5
}
